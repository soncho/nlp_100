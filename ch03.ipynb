{
 "cells": [
  {
   "cell_type": "markdown",
   "metadata": {},
   "source": [
    "# 第3章: 正規表現"
   ]
  },
  {
   "cell_type": "markdown",
   "metadata": {},
   "source": [
    "## 20. JSONデータの読み込み\n",
    "Wikipedia記事のJSONファイルを読み込み，「イギリス」に関する記事本文を表示せよ．問題21-29では，ここで抽出した記事本文に対して実行せよ．"
   ]
  },
  {
   "cell_type": "code",
   "execution_count": 28,
   "metadata": {
    "collapsed": false
   },
   "outputs": [],
   "source": [
    "import json\n",
    "with open('./jawiki-country.json', 'r') as f:\n",
    "    line = f.readline()\n",
    "    while line:\n",
    "        d = json.loads(line)\n",
    "        if d['title'] == 'イギリス':\n",
    "            uk = d\n",
    "            break\n",
    "        line = f.readline()\n",
    "        \n",
    "with open('uk.txt', 'w') as f:\n",
    "    f.write(uk['text'])"
   ]
  },
  {
   "cell_type": "markdown",
   "metadata": {},
   "source": [
    "## 21. カテゴリ名を含む行を抽出\n",
    "記事中でカテゴリ名を宣言している行を抽出せよ．"
   ]
  },
  {
   "cell_type": "code",
   "execution_count": 29,
   "metadata": {
    "collapsed": false
   },
   "outputs": [
    {
     "name": "stdout",
     "output_type": "stream",
     "text": [
      "[[Category:イギリス|*]]\n",
      "\n",
      "[[Category:英連邦王国|*]]\n",
      "\n",
      "[[Category:G8加盟国]]\n",
      "\n",
      "[[Category:欧州連合加盟国]]\n",
      "\n",
      "[[Category:海洋国家]]\n",
      "\n",
      "[[Category:君主国]]\n",
      "\n",
      "[[Category:島国|くれいとふりてん]]\n",
      "\n",
      "[[Category:1801年に設立された州・地域]]\n"
     ]
    }
   ],
   "source": [
    "import re\n",
    "\n",
    "pat = re.compile(r'^\\[\\[Category:(.+)\\]\\]')\n",
    "\n",
    "with open('uk.txt', 'r') as f:\n",
    "    line = f.readline()\n",
    "    while line:\n",
    "        matcher = pat.match(line)\n",
    "        if matcher:\n",
    "            print(line)\n",
    "        line = f.readline()"
   ]
  },
  {
   "cell_type": "code",
   "execution_count": 30,
   "metadata": {
    "collapsed": false
   },
   "outputs": [
    {
     "name": "stdout",
     "output_type": "stream",
     "text": [
      "イギリス|*\n",
      "英連邦王国|*\n",
      "G8加盟国\n",
      "欧州連合加盟国\n",
      "海洋国家\n",
      "君主国\n",
      "島国|くれいとふりてん\n",
      "1801年に設立された州・地域\n"
     ]
    }
   ],
   "source": [
    "with open('uk.txt', 'r') as f:\n",
    "    line = f.readline()\n",
    "    while line:\n",
    "        matcher = pat.match(line)\n",
    "        if matcher:\n",
    "            print(matcher.group(1))\n",
    "        line = f.readline()"
   ]
  },
  {
   "cell_type": "markdown",
   "metadata": {},
   "source": [
    "## 23. セクション構造\n",
    "記事中に含まれるセクション名とそのレベル（例えば\"== セクション名 ==\"なら1）を表示せよ．"
   ]
  },
  {
   "cell_type": "code",
   "execution_count": 41,
   "metadata": {
    "collapsed": false
   },
   "outputs": [
    {
     "name": "stdout",
     "output_type": "stream",
     "text": [
      "1 国名\n",
      "1 歴史\n",
      "1 地理\n",
      "2 気候\n",
      "1 政治\n",
      "1 外交と軍事\n",
      "1 地方行政区分\n",
      "2 主要都市\n",
      "1 科学技術\n",
      "1 経済\n",
      "2 鉱業\n",
      "2 農業\n",
      "2 貿易\n",
      "2 通貨\n",
      "2 企業\n",
      "1 交通\n",
      "2 道路\n",
      "2 鉄道\n",
      "2 海運\n",
      "2 航空\n",
      "1 通信\n",
      "1 国民\n",
      "2 言語\n",
      "2 宗教\n",
      "2  婚姻 \n",
      "2 教育\n",
      "1 文化\n",
      "2 食文化\n",
      "2 文学\n",
      "2  哲学 \n",
      "2 音楽\n",
      "3 イギリスのポピュラー音楽\n",
      "2 映画\n",
      "2 コメディ\n",
      "2 国花\n",
      "2 世界遺産\n",
      "2 祝祭日\n",
      "1 スポーツ\n",
      "2 サッカー\n",
      "2 競馬\n",
      "2 モータースポーツ\n",
      "1 脚注\n",
      "1 関連項目\n",
      "1 外部リンク\n"
     ]
    }
   ],
   "source": [
    "pat = re.compile(r'^=(=+)([^=]*)=+$')\n",
    "with open('uk.txt', 'r') as f:\n",
    "    line = f.readline()\n",
    "    while line:\n",
    "        matcher = pat.match(line)\n",
    "        if matcher:\n",
    "            level = len(matcher.group(1))\n",
    "            print(level, matcher.group(2))\n",
    "        line = f.readline()"
   ]
  },
  {
   "cell_type": "markdown",
   "metadata": {},
   "source": [
    "## 24. ファイル参照の抽出\n",
    "記事から参照されているメディアファイルをすべて抜き出せ．"
   ]
  },
  {
   "cell_type": "markdown",
   "metadata": {},
   "source": [
    "## 25. テンプレートの抽出\n",
    "記事中に含まれる「基礎情報」テンプレートのフィールド名と値を抽出し，辞書オブジェクトとして格納せよ．"
   ]
  },
  {
   "cell_type": "code",
   "execution_count": 44,
   "metadata": {
    "collapsed": false
   },
   "outputs": [
    {
     "name": "stdout",
     "output_type": "stream",
     "text": [
      "{'国章画像': '[[ファイル:Royal Coat of Arms of the United Kingdom.svg|85px|イギリスの国章]]', 'GDP順位': '6', 'GDP値元': '1兆5478億<ref name=\"imf-statistics-gdp\">[http://www.imf.org/external/pubs/ft/weo/2012/02/weodata/weorept.aspx?pr.x=70&pr.y=13&sy=2010&ey=2012&scsm=1&ssd=1&sort=country&ds=.&br=1&c=112&s=NGDP%2CNGDPD%2CPPPGDP%2CPPPPC&grp=0&a= IMF>Data and Statistics>World Economic Outlook Databases>By Countrise>United Kingdom]</ref>', '国際電話番号': '44', '確立形態2': '[[グレートブリテン王国]]建国<br />（[[連合法 (1707年)|1707年連合法]]）', '位置画像': 'Location_UK_EU_Europe_001.svg', '略名': 'イギリス', '首都': '[[ロンドン]]', '水面積率': '1.3%', 'GDP順位MER': '5', '国章リンク': '（[[イギリスの国章|国章]]）', '元首等氏名': '[[エリザベス2世]]', '注記': '<references />', '面積順位': '76', '最大都市': 'ロンドン', 'ccTLD': '[[.uk]] / [[.gb]]<ref>使用は.ukに比べ圧倒的少数。</ref>', '公用語': '[[英語]]（事実上）', '通貨': '[[スターリング・ポンド|UKポンド]] (&pound;)', 'GDP統計年': '2012', '国旗画像': 'Flag of the United Kingdom.svg', 'GDP値': '2兆3162億<ref name=\"imf-statistics-gdp\" />', '確立形態3': '[[グレートブリテン及びアイルランド連合王国]]建国<br />（[[連合法 (1800年)|1800年連合法]]）', '人口密度値': '246', '確立年月日1': '[[927年]]／[[843年]]', '日本語国名': 'グレートブリテン及び北アイルランド連合王国', '人口順位': '22', '面積値': '244,820', 'GDP統計年MER': '2012', 'ISO 3166-1': 'GB / GBR', 'GDP/人': '36,727<ref name=\"imf-statistics-gdp\" />', '公式国名': '{{lang|en|United Kingdom of Great Britain and Northern Ireland}}<ref>英語以外での正式国名:<br/>', '面積大きさ': '1 E11', '首相等氏名': '[[デーヴィッド・キャメロン]]', '国歌': '[[女王陛下万歳|神よ女王陛下を守り給え]]', '確立年月日4': '[[1927年]]', '通貨コード': 'GBP', '元首等肩書': '[[イギリスの君主|女王]]', 'GDP統計年元': '2012', '時間帯': '±0', '夏時間': '+1', '建国形態': '建国', '確立形態1': '[[イングランド王国]]／[[スコットランド王国]]<br />（両国とも[[連合法 (1707年)|1707年連合法]]まで）', '確立年月日3': '[[1801年]]', '首相等肩書': '[[イギリスの首相|首相]]', '確立形態4': \"現在の国号「'''グレートブリテン及び北アイルランド連合王国'''」に変更\", '人口値': '63,181,775<ref>[http://esa.un.org/unpd/wpp/Excel-Data/population.htm United Nations Department of Economic and Social Affairs>Population Division>Data>Population>Total Population]</ref>', 'GDP値MER': '2兆4337億<ref name=\"imf-statistics-gdp\" />', '標語': '{{lang|fr|Dieu et mon droit}}<br/>（[[フランス語]]:神と私の権利）', '確立年月日2': '[[1707年]]', '人口大きさ': '1 E7', '人口統計年': '2011'}\n"
     ]
    }
   ],
   "source": [
    "pat = re.compile(r'^\\|(.+) = (.+)$')\n",
    "base_info_dict = {}\n",
    "with open('uk.txt', 'r') as f:\n",
    "    line = f.readline()\n",
    "    while line:\n",
    "        matcher = pat.match(line)\n",
    "        if matcher:\n",
    "            base_info_dict[matcher.group(1)] = matcher.group(2)\n",
    "        line = f.readline()\n",
    "        \n",
    "print(base_info_dict)"
   ]
  },
  {
   "cell_type": "markdown",
   "metadata": {},
   "source": [
    "## 26. 強調マークアップの除去\n",
    "25の処理時に，テンプレートの値からMediaWikiの強調マークアップ（弱い強調，強調，強い強調のすべて）を除去してテキストに変換せよ（参考: マークアップ早見表）．"
   ]
  },
  {
   "cell_type": "code",
   "execution_count": 55,
   "metadata": {
    "collapsed": false
   },
   "outputs": [
    {
     "name": "stdout",
     "output_type": "stream",
     "text": [
      "{'国章画像': '[[ファイル:Royal Coat of Arms of the United Kingdom.svg|85px|イギリスの国章]]', 'GDP順位': '6', 'GDP値元': '1兆5478億<ref name=\"imf-statistics-gdp\">[http://www.imf.org/external/pubs/ft/weo/2012/02/weodata/weorept.aspx?pr.x=70&pr.y=13&sy=2010&ey=2012&scsm=1&ssd=1&sort=country&ds=.&br=1&c=112&s=NGDP%2CNGDPD%2CPPPGDP%2CPPPPC&grp=0&a= IMF>Data and Statistics>World Economic Outlook Databases>By Countrise>United Kingdom]</ref>', '国際電話番号': '44', '確立形態2': '[[グレートブリテン王国]]建国<br />（[[連合法 (1707年)|1707年連合法]]）', '位置画像': 'Location_UK_EU_Europe_001.svg', '略名': 'イギリス', '首都': '[[ロンドン]]', '水面積率': '1.3%', 'GDP順位MER': '5', '国章リンク': '（[[イギリスの国章|国章]]）', '元首等氏名': '[[エリザベス2世]]', '注記': '<references />', '面積順位': '76', '最大都市': 'ロンドン', 'ccTLD': '[[.uk]] / [[.gb]]<ref>使用は.ukに比べ圧倒的少数。</ref>', '公用語': '[[英語]]（事実上）', '通貨': '[[スターリング・ポンド|UKポンド]] (&pound;)', 'GDP統計年': '2012', '国旗画像': 'Flag of the United Kingdom.svg', 'GDP値': '2兆3162億<ref name=\"imf-statistics-gdp\" />', '確立形態3': '[[グレートブリテン及びアイルランド連合王国]]建国<br />（[[連合法 (1800年)|1800年連合法]]）', '人口密度値': '246', '確立年月日1': '[[927年]]／[[843年]]', '日本語国名': 'グレートブリテン及び北アイルランド連合王国', '人口順位': '22', '面積値': '244,820', 'GDP統計年MER': '2012', 'ISO 3166-1': 'GB / GBR', 'GDP/人': '36,727<ref name=\"imf-statistics-gdp\" />', '公式国名': '{{lang|en|United Kingdom of Great Britain and Northern Ireland}}<ref>英語以外での正式国名:<br/>', '面積大きさ': '1 E11', '首相等氏名': '[[デーヴィッド・キャメロン]]', '国歌': '[[女王陛下万歳|神よ女王陛下を守り給え]]', '確立年月日4': '[[1927年]]', '通貨コード': 'GBP', '元首等肩書': '[[イギリスの君主|女王]]', 'GDP統計年元': '2012', '時間帯': '±0', '夏時間': '+1', '建国形態': '建国', '確立形態1': '[[イングランド王国]]／[[スコットランド王国]]<br />（両国とも[[連合法 (1707年)|1707年連合法]]まで）', '確立年月日3': '[[1801年]]', '首相等肩書': '[[イギリスの首相|首相]]', '確立形態4': \"現在の国号「グレートブリテン及び北アイルランド連合王国''」に変更\", '人口値': '63,181,775<ref>[http://esa.un.org/unpd/wpp/Excel-Data/population.htm United Nations Department of Economic and Social Affairs>Population Division>Data>Population>Total Population]</ref>', 'GDP値MER': '2兆4337億<ref name=\"imf-statistics-gdp\" />', '標語': '{{lang|fr|Dieu et mon droit}}<br/>（[[フランス語]]:神と私の権利）', '確立年月日2': '[[1707年]]', '人口大きさ': '1 E7', '人口統計年': '2011'}\n"
     ]
    }
   ],
   "source": [
    "pat = re.compile(r'^\\|(.+) = (.+)$')\n",
    "emphasis_pat = re.compile(\"'+(.+)'+\")\n",
    "\n",
    "base_info_dict = {}\n",
    "with open('uk.txt', 'r') as f:\n",
    "    line = f.readline()\n",
    "    while line:\n",
    "        matcher = pat.match(line)\n",
    "        if matcher:\n",
    "            base_info_dict[matcher.group(1)] = re.sub(emphasis_pat, r'\\1', matcher.group(2))\n",
    "        line = f.readline()\n",
    "        \n",
    "print(base_info_dict)"
   ]
  },
  {
   "cell_type": "code",
   "execution_count": null,
   "metadata": {
    "collapsed": true
   },
   "outputs": [],
   "source": []
  }
 ],
 "metadata": {
  "anaconda-cloud": {},
  "kernelspec": {
   "display_name": "Python [default]",
   "language": "python",
   "name": "python3"
  },
  "language_info": {
   "codemirror_mode": {
    "name": "ipython",
    "version": 3
   },
   "file_extension": ".py",
   "mimetype": "text/x-python",
   "name": "python",
   "nbconvert_exporter": "python",
   "pygments_lexer": "ipython3",
   "version": "3.5.2"
  }
 },
 "nbformat": 4,
 "nbformat_minor": 2
}
