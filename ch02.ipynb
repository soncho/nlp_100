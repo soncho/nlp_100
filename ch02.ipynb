{
 "cells": [
  {
   "cell_type": "markdown",
   "metadata": {},
   "source": [
    "# 第2章: UNIXコマンドの基礎"
   ]
  },
  {
   "cell_type": "markdown",
   "metadata": {},
   "source": [
    "## 10.　行数のカウント\n",
    "行数をカウントせよ．確認にはwcコマンドを用いよ．"
   ]
  },
  {
   "cell_type": "code",
   "execution_count": 2,
   "metadata": {
    "collapsed": false
   },
   "outputs": [
    {
     "name": "stdout",
     "output_type": "stream",
     "text": [
      "24\n"
     ]
    }
   ],
   "source": [
    "with open('./hightemp.txt', 'r') as f:\n",
    "    print(len(f.readlines()))"
   ]
  },
  {
   "cell_type": "code",
   "execution_count": 9,
   "metadata": {
    "collapsed": false
   },
   "outputs": [
    {
     "name": "stdout",
     "output_type": "stream",
     "text": [
      "      24 ./hightemp.txt\r\n"
     ]
    }
   ],
   "source": [
    "!wc -l ./hightemp.txt"
   ]
  },
  {
   "cell_type": "markdown",
   "metadata": {},
   "source": [
    "## 11. タブをスペースに置換\n",
    "タブ1文字につきスペース1文字に置換せよ．確認にはsedコマンド，trコマンド，もしくはexpandコマンドを用いよ．"
   ]
  },
  {
   "cell_type": "code",
   "execution_count": 13,
   "metadata": {
    "collapsed": false
   },
   "outputs": [
    {
     "name": "stdout",
     "output_type": "stream",
     "text": [
      "高知県\t江川崎\t41\t2013-08-12\n",
      "\n",
      "高知県 江川崎 41 2013-08-12\n",
      "\n"
     ]
    }
   ],
   "source": [
    "import re\n",
    "with open('./hightemp.txt', 'r') as f:\n",
    "    for line in f.readlines():\n",
    "        print(line)\n",
    "        print(re.sub('\\t', ' ', line))\n",
    "        break"
   ]
  },
  {
   "cell_type": "markdown",
   "metadata": {},
   "source": [
    "## 12. 1列目をcol1.txtに、2列目をcol2.txtに保存\n",
    "各行の1列目だけを抜き出したものをcol1.txtに，2列目だけを抜き出したものをcol2.txtとしてファイルに保存せよ．確認にはcutコマンドを用いよ．"
   ]
  },
  {
   "cell_type": "code",
   "execution_count": 14,
   "metadata": {
    "collapsed": true
   },
   "outputs": [],
   "source": [
    "col1 = open('./col1.txt', 'w')\n",
    "col2 = open('./col2.txt', 'w')\n",
    "\n",
    "with open('./hightemp.txt', 'r') as f:\n",
    "    for line in f.readlines():\n",
    "        split_line = line.split('\\t')\n",
    "        \n",
    "        col1.write(split_line[0] + '\\n')\n",
    "        col2.write(split_line[1] + '\\n')\n",
    "\n",
    "col1.close()\n",
    "col2.close()"
   ]
  },
  {
   "cell_type": "markdown",
   "metadata": {},
   "source": [
    "## 13. col1.txtとcol2.txtをマージ\n",
    "12で作ったcol1.txtとcol2.txtを結合し，元のファイルの1列目と2列目をタブ区切りで並べたテキストファイルを作成せよ．確認にはpasteコマンドを用いよ．"
   ]
  },
  {
   "cell_type": "code",
   "execution_count": 19,
   "metadata": {
    "collapsed": false
   },
   "outputs": [],
   "source": [
    "col1 = open('./col1.txt', 'r')\n",
    "col2 = open('./col2.txt', 'r')\n",
    "\n",
    "with open('./merge_cols.txt', 'w') as f:\n",
    "    for t in zip(col1.readlines(), col2.readlines()):\n",
    "        f.write(t[0][:-1] + '\\t' + t[1])"
   ]
  },
  {
   "cell_type": "markdown",
   "metadata": {},
   "source": [
    "## 14. 先頭からN行出力\n",
    "自然数Nをコマンドライン引数などの手段で受け取り，入力のうち先頭のN行だけを表示せよ．確認にはheadコマンドを用いよ．"
   ]
  },
  {
   "cell_type": "code",
   "execution_count": 6,
   "metadata": {
    "collapsed": false
   },
   "outputs": [
    {
     "name": "stdout",
     "output_type": "stream",
     "text": [
      "高知県\t江川崎\t41\t2013-08-12\n",
      "\n",
      "埼玉県\t熊谷\t40.9\t2007-08-16\n",
      "\n"
     ]
    }
   ],
   "source": [
    "def head(n):\n",
    "    with open('./hightemp.txt', 'r') as f:\n",
    "        line = f.readline()\n",
    "        cnt = 0\n",
    "        while line and cnt < n:\n",
    "            print(line)\n",
    "            line = f.readline()\n",
    "            cnt += 1\n",
    "\n",
    "head(2)"
   ]
  },
  {
   "cell_type": "markdown",
   "metadata": {},
   "source": [
    "## 15. 末尾からN行出力\n",
    "自然数Nをコマンドライン引数などの手段で受け取り，入力のうち末尾のN行だけを表示せよ．確認にはtailコマンドを用いよ．"
   ]
  },
  {
   "cell_type": "code",
   "execution_count": 7,
   "metadata": {
    "collapsed": false
   },
   "outputs": [
    {
     "name": "stdout",
     "output_type": "stream",
     "text": [
      "山形県\t鶴岡\t39.9\t1978-08-03\n",
      "\n",
      "愛知県\t名古屋\t39.9\t1942-08-02\n",
      "\n"
     ]
    }
   ],
   "source": [
    "def tail(n):\n",
    "    with open('./hightemp.txt', 'r') as f:\n",
    "        lines = f.readlines()\n",
    "        for line in lines[-n:]:\n",
    "            print(line)\n",
    "\n",
    "tail(2)"
   ]
  },
  {
   "cell_type": "markdown",
   "metadata": {},
   "source": [
    "## 16. ファイルをN分割する\n",
    "自然数Nをコマンドライン引数などの手段で受け取り，入力のファイルを行単位でN分割せよ．同様の処理をsplitコマンドで実現せよ．"
   ]
  },
  {
   "cell_type": "code",
   "execution_count": 13,
   "metadata": {
    "collapsed": false
   },
   "outputs": [],
   "source": [
    "def split(n):\n",
    "    with open('./hightemp.txt', 'r') as f:\n",
    "        lines = f.readlines()\n",
    "        row_per_file = int(len(lines) / n + 0.5)  # 行数が割り切れない場合の対応\n",
    "    for i in range(n):\n",
    "        with open('./split_%s.txt' % i, 'w') as f:\n",
    "            start = i * row_per_file\n",
    "            if i + 1 == n:\n",
    "                _lines = lines[start:]\n",
    "                f.writelines(_lines)\n",
    "            else:\n",
    "                end = start + row_per_file\n",
    "                _lines = lines[start:end]\n",
    "                f.writelines(_lines)\n",
    "split(5)"
   ]
  },
  {
   "cell_type": "code",
   "execution_count": 14,
   "metadata": {
    "collapsed": true
   },
   "outputs": [],
   "source": [
    "!split -l 5 hightemp.txt sample."
   ]
  },
  {
   "cell_type": "markdown",
   "metadata": {},
   "source": [
    "## 17. 1列目の文字列の異なり\n",
    "1列目の文字列の種類（異なる文字列の集合）を求めよ．確認にはsort, uniqコマンドを用いよ．"
   ]
  },
  {
   "cell_type": "code",
   "execution_count": 17,
   "metadata": {
    "collapsed": false
   },
   "outputs": [
    {
     "name": "stdout",
     "output_type": "stream",
     "text": [
      "{'高知県', '山梨県', '群馬県', '静岡県', '千葉県', '和歌山県', '山形県', '埼玉県', '岐阜県', '愛知県', '愛媛県', '大阪府'}\n"
     ]
    }
   ],
   "source": [
    "with open('./hightemp.txt', 'r') as f:\n",
    "    res = {line.split('\\t')[0] for line in f.readlines()}\n",
    "print(res)"
   ]
  },
  {
   "cell_type": "code",
   "execution_count": 18,
   "metadata": {
    "collapsed": false
   },
   "outputs": [
    {
     "name": "stdout",
     "output_type": "stream",
     "text": [
      "千葉県\r\n",
      "埼玉県\r\n",
      "大阪府\r\n",
      "山形県\r\n",
      "山梨県\r\n",
      "岐阜県\r\n",
      "愛媛県\r\n",
      "愛知県\r\n",
      "群馬県\r\n",
      "静岡県\r\n",
      "高知県\r\n",
      "和歌山県\r\n"
     ]
    }
   ],
   "source": [
    "!cut -f1 hightemp.txt | sort | uniq"
   ]
  },
  {
   "cell_type": "markdown",
   "metadata": {},
   "source": [
    "## 18. 各行の3列目の数値を降順にソート\n",
    "各行を3列目の数値の逆順で整列せよ（注意: 各行の内容は変更せずに並び替えよ）．確認にはsortコマンドを用いよ（この問題はコマンドで実行した時の結果と合わなくてもよい）．"
   ]
  },
  {
   "cell_type": "code",
   "execution_count": 23,
   "metadata": {
    "collapsed": false
   },
   "outputs": [
    {
     "data": {
      "text/plain": [
       "[['高知県', '江川崎', '41', '2013-08-12\\n'],\n",
       " ['埼玉県', '熊谷', '40.9', '2007-08-16\\n'],\n",
       " ['岐阜県', '多治見', '40.9', '2007-08-16\\n'],\n",
       " ['山形県', '山形', '40.8', '1933-07-25\\n'],\n",
       " ['山梨県', '甲府', '40.7', '2013-08-10\\n'],\n",
       " ['和歌山県', 'かつらぎ', '40.6', '1994-08-08\\n'],\n",
       " ['静岡県', '天竜', '40.6', '1994-08-04\\n'],\n",
       " ['山梨県', '勝沼', '40.5', '2013-08-10\\n'],\n",
       " ['埼玉県', '越谷', '40.4', '2007-08-16\\n'],\n",
       " ['群馬県', '館林', '40.3', '2007-08-16\\n'],\n",
       " ['群馬県', '上里見', '40.3', '1998-07-04\\n'],\n",
       " ['愛知県', '愛西', '40.3', '1994-08-05\\n'],\n",
       " ['千葉県', '牛久', '40.2', '2004-07-20\\n'],\n",
       " ['静岡県', '佐久間', '40.2', '2001-07-24\\n'],\n",
       " ['愛媛県', '宇和島', '40.2', '1927-07-22\\n'],\n",
       " ['山形県', '酒田', '40.1', '1978-08-03\\n'],\n",
       " ['岐阜県', '美濃', '40', '2007-08-16\\n'],\n",
       " ['群馬県', '前橋', '40', '2001-07-24\\n'],\n",
       " ['千葉県', '茂原', '39.9', '2013-08-11\\n'],\n",
       " ['埼玉県', '鳩山', '39.9', '1997-07-05\\n'],\n",
       " ['大阪府', '豊中', '39.9', '1994-08-08\\n'],\n",
       " ['山梨県', '大月', '39.9', '1990-07-19\\n'],\n",
       " ['山形県', '鶴岡', '39.9', '1978-08-03\\n'],\n",
       " ['愛知県', '名古屋', '39.9', '1942-08-02\\n']]"
      ]
     },
     "execution_count": 23,
     "metadata": {},
     "output_type": "execute_result"
    }
   ],
   "source": [
    "with open('./hightemp.txt', 'r') as f:\n",
    "    ll = [l.split('\\t') for l in f.readlines()]\n",
    "\n",
    "sorted(ll, key=lambda l: float(l[2]), reverse=True)"
   ]
  },
  {
   "cell_type": "code",
   "execution_count": 24,
   "metadata": {
    "collapsed": false
   },
   "outputs": [
    {
     "name": "stdout",
     "output_type": "stream",
     "text": [
      "高知県\t江川崎\t41\t2013-08-12\r\n",
      "埼玉県\t熊谷\t40.9\t2007-08-16\r\n",
      "岐阜県\t多治見\t40.9\t2007-08-16\r\n",
      "山形県\t山形\t40.8\t1933-07-25\r\n",
      "山梨県\t甲府\t40.7\t2013-08-10\r\n",
      "和歌山県\tかつらぎ\t40.6\t1994-08-08\r\n",
      "静岡県\t天竜\t40.6\t1994-08-04\r\n",
      "山梨県\t勝沼\t40.5\t2013-08-10\r\n",
      "埼玉県\t越谷\t40.4\t2007-08-16\r\n",
      "群馬県\t館林\t40.3\t2007-08-16\r\n",
      "群馬県\t上里見\t40.3\t1998-07-04\r\n",
      "愛知県\t愛西\t40.3\t1994-08-05\r\n",
      "千葉県\t牛久\t40.2\t2004-07-20\r\n",
      "静岡県\t佐久間\t40.2\t2001-07-24\r\n",
      "愛媛県\t宇和島\t40.2\t1927-07-22\r\n",
      "山形県\t酒田\t40.1\t1978-08-03\r\n",
      "岐阜県\t美濃\t40\t2007-08-16\r\n",
      "群馬県\t前橋\t40\t2001-07-24\r\n",
      "千葉県\t茂原\t39.9\t2013-08-11\r\n",
      "埼玉県\t鳩山\t39.9\t1997-07-05\r\n",
      "大阪府\t豊中\t39.9\t1994-08-08\r\n",
      "山梨県\t大月\t39.9\t1990-07-19\r\n",
      "山形県\t鶴岡\t39.9\t1978-08-03\r\n",
      "愛知県\t名古屋\t39.9\t1942-08-02\r\n"
     ]
    }
   ],
   "source": [
    "!sort -k3r -n hightemp.txt"
   ]
  },
  {
   "cell_type": "markdown",
   "metadata": {},
   "source": [
    "## 19. 各行の列目の文字列の出現頻度を求め，出現頻度の高い順に並べる\n",
    "各行の1列目の文字列の出現頻度を求め，その高い順に並べて表示せよ．確認にはcut, uniq, sortコマンドを用いよ．"
   ]
  },
  {
   "cell_type": "code",
   "execution_count": 27,
   "metadata": {
    "collapsed": false
   },
   "outputs": [
    {
     "data": {
      "text/plain": [
       "[('山梨県', 3),\n",
       " ('群馬県', 3),\n",
       " ('山形県', 3),\n",
       " ('埼玉県', 3),\n",
       " ('千葉県', 2),\n",
       " ('岐阜県', 2),\n",
       " ('愛知県', 2),\n",
       " ('静岡県', 2),\n",
       " ('大阪府', 1),\n",
       " ('高知県', 1),\n",
       " ('和歌山県', 1),\n",
       " ('愛媛県', 1)]"
      ]
     },
     "execution_count": 27,
     "metadata": {},
     "output_type": "execute_result"
    }
   ],
   "source": [
    "from collections import defaultdict\n",
    "with open('./hightemp.txt', 'r') as f:\n",
    "    ps = [l.split('\\t')[0] for l in f.readlines()]\n",
    "cnt_dict = defaultdict(int)\n",
    "for p in ps:\n",
    "    cnt_dict[p] += 1\n",
    "    \n",
    "sorted(cnt_dict.items(), key=lambda t: t[1], reverse=True)\n"
   ]
  },
  {
   "cell_type": "code",
   "execution_count": 28,
   "metadata": {
    "collapsed": false
   },
   "outputs": [
    {
     "name": "stdout",
     "output_type": "stream",
     "text": [
      "   3 群馬県\r\n",
      "   3 山梨県\r\n",
      "   3 山形県\r\n",
      "   3 埼玉県\r\n",
      "   2 静岡県\r\n",
      "   2 愛知県\r\n",
      "   2 岐阜県\r\n",
      "   2 千葉県\r\n",
      "   1 和歌山県\r\n",
      "   1 高知県\r\n",
      "   1 愛媛県\r\n",
      "   1 大阪府\r\n"
     ]
    }
   ],
   "source": [
    "!cut -f1 hightemp.txt | sort | uniq -c | sort -r"
   ]
  }
 ],
 "metadata": {
  "anaconda-cloud": {},
  "kernelspec": {
   "display_name": "Python [default]",
   "language": "python",
   "name": "python3"
  },
  "language_info": {
   "codemirror_mode": {
    "name": "ipython",
    "version": 3
   },
   "file_extension": ".py",
   "mimetype": "text/x-python",
   "name": "python",
   "nbconvert_exporter": "python",
   "pygments_lexer": "ipython3",
   "version": "3.5.2"
  }
 },
 "nbformat": 4,
 "nbformat_minor": 2
}
