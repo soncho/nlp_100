{
 "cells": [
  {
   "cell_type": "markdown",
   "metadata": {},
   "source": [
    "# 第1章: 準備運動"
   ]
  },
  {
   "cell_type": "markdown",
   "metadata": {
    "collapsed": true
   },
   "source": [
    "## 00. 文字列の逆順\n",
    " \n",
    "文字列\"stressed\"の文字を逆に（末尾から先頭に向かって）並べた文字列を得よ．"
   ]
  },
  {
   "cell_type": "code",
   "execution_count": 5,
   "metadata": {
    "collapsed": false
   },
   "outputs": [
    {
     "name": "stdout",
     "output_type": "stream",
     "text": [
      "desserts\n",
      "desserts\n"
     ]
    }
   ],
   "source": [
    "s = 'stressed'\n",
    "\n",
    "# 愚直にやるとこう\n",
    "res = ''\n",
    "for i in range(1, len(s)+1):\n",
    "    res += s[-i]\n",
    "print(res)\n",
    "\n",
    "# 関数型っぽく\n",
    "print(''.join(reversed(s)))"
   ]
  },
  {
   "cell_type": "markdown",
   "metadata": {},
   "source": [
    "## 01. 「パタトクカシーー」\n",
    "「パタトクカシーー」という文字列の1,3,5,7文字目を取り出して連結した文字列を得よ．"
   ]
  },
  {
   "cell_type": "code",
   "execution_count": 6,
   "metadata": {
    "collapsed": false
   },
   "outputs": [
    {
     "name": "stdout",
     "output_type": "stream",
     "text": [
      "タクシー\n"
     ]
    }
   ],
   "source": [
    "s = 'パタトクカシーー'\n",
    "\n",
    "res = ''\n",
    "for i in range(1, len(s), 2):\n",
    "    res += s[i]\n",
    "print(res)"
   ]
  },
  {
   "cell_type": "markdown",
   "metadata": {},
   "source": [
    "## 02. パトカー」＋「タクシー」＝「パタトクカシーー」\n",
    "「パトカー」＋「タクシー」の文字を先頭から交互に連結して文字列「パタトクカシーー」を得よ．"
   ]
  },
  {
   "cell_type": "code",
   "execution_count": 7,
   "metadata": {
    "collapsed": false
   },
   "outputs": [
    {
     "name": "stdout",
     "output_type": "stream",
     "text": [
      "パタトクカシーー\n"
     ]
    }
   ],
   "source": [
    "s1 = 'パトカー'\n",
    "s2 = 'タクシー'\n",
    "\n",
    "res = ''\n",
    "for t in zip(s1, s2):\n",
    "    res += t[0] + t[1]\n",
    "print(res)"
   ]
  },
  {
   "cell_type": "markdown",
   "metadata": {},
   "source": [
    "## 03. 円周率\n",
    "\"Now I need a drink, alcoholic of course, after the heavy lectures involving quantum mechanics.\"という文を単語に分解し，各単語の（アルファベットの）文字数を先頭から出現順に並べたリストを作成せよ．"
   ]
  },
  {
   "cell_type": "code",
   "execution_count": 8,
   "metadata": {
    "collapsed": false
   },
   "outputs": [
    {
     "name": "stdout",
     "output_type": "stream",
     "text": [
      "[3, 1, 4, 1, 5, 9, 2, 6, 5, 3, 5, 8, 9, 7, 9]\n"
     ]
    }
   ],
   "source": [
    "ss = 'Now I need a drink, alcoholic of course, after the heavy lectures involving quantum mechanics.'\n",
    "\n",
    "ss = ss.replace(',', '').replace('.', '')\n",
    "print([len(s) for s in ss.split()])\n"
   ]
  },
  {
   "cell_type": "markdown",
   "metadata": {},
   "source": [
    "## 04. 元素記号\n",
    "\"Hi He Lied Because Boron Could Not Oxidize Fluorine. New Nations Might Also Sign Peace Security Clause. Arthur King Can.\"という文を単語に分解し，1, 5, 6, 7, 8, 9, 15, 16, 19番目の単語は先頭の1文字，それ以外の単語は先頭に2文字を取り出し，取り出した文字列から単語の位置（先頭から何番目の単語か）への連想配列（辞書型もしくはマップ型）を作成せよ．"
   ]
  },
  {
   "cell_type": "code",
   "execution_count": 11,
   "metadata": {
    "collapsed": false
   },
   "outputs": [
    {
     "name": "stdout",
     "output_type": "stream",
     "text": [
      "{'O': 8, 'Na': 11, 'Ar': 18, 'Si': 14, 'N': 7, 'F': 9, 'H': 1, 'Cl': 17, 'Mi': 12, 'P': 15, 'C': 6, 'B': 5, 'Ne': 10, 'S': 16, 'Be': 4, 'Ca': 20, 'K': 19, 'Al': 13, 'He': 2, 'Li': 3}\n"
     ]
    }
   ],
   "source": [
    "ss = 'Hi He Lied Because Boron Could Not Oxidize Fluorine. New Nations Might Also Sign Peace Security Clause. Arthur King Can.'\n",
    "index = [1, 5, 6, 7, 8, 9, 15, 16, 19]\n",
    "\n",
    "d = {}\n",
    "for i, s in enumerate(ss.split()):\n",
    "    i += 1\n",
    "    if i in index:\n",
    "        d[s[0]] = i\n",
    "    else:\n",
    "        d[s[0:2]] = i\n",
    "print(d)"
   ]
  },
  {
   "cell_type": "markdown",
   "metadata": {},
   "source": [
    "## 05. n-gram\n",
    "与えられたシーケンス（文字列やリストなど）からn-gramを作る関数を作成せよ．この関数を用い，\"I am an NLPer\"という文から単語bi-gram，文字bi-gramを得よ．"
   ]
  },
  {
   "cell_type": "code",
   "execution_count": 37,
   "metadata": {
    "collapsed": false
   },
   "outputs": [
    {
     "name": "stdout",
     "output_type": "stream",
     "text": [
      "['I ', ' a', 'am', 'm ', ' a', 'an', 'n ', ' N', 'NL', 'LP', 'Pe', 'er']\n",
      "['I ', ' a', 'am', 'm ', ' a', 'an', 'n ', ' N', 'NL', 'LP', 'Pe', 'er']\n"
     ]
    }
   ],
   "source": [
    "def to_char_ngram(seq, n):\n",
    "    res = []\n",
    "    pos = 0\n",
    "    if isinstance(seq, list):\n",
    "        seq = ' '.join(seq)\n",
    "    while True:\n",
    "        if pos + n > len(seq):\n",
    "            res += seq[pos:-1]\n",
    "            break\n",
    "        else:\n",
    "            res.append(seq[pos:pos+n])\n",
    "        pos += 1\n",
    "    return res\n",
    "\n",
    "s = 'I am an NLPer'\n",
    "print(to_char_ngram(s, 2))\n",
    "s = ['I', 'am', 'an', 'NLPer']\n",
    "print(to_char_ngram(s, 2))"
   ]
  },
  {
   "cell_type": "code",
   "execution_count": 39,
   "metadata": {
    "collapsed": false
   },
   "outputs": [
    {
     "name": "stdout",
     "output_type": "stream",
     "text": [
      "['I am', 'am an', 'an NLPer']\n",
      "['I am', 'am an', 'an NLPer']\n"
     ]
    }
   ],
   "source": [
    "def to_word_ngram(seq, n):\n",
    "    res = []\n",
    "    pos = 0\n",
    "    if isinstance(seq, str):\n",
    "        seq = seq.split()\n",
    "    while True:\n",
    "        if pos + n > len(seq):\n",
    "            res += seq[pos:-1]\n",
    "            break\n",
    "        else:\n",
    "            res.append(' '.join(seq[pos:pos+n]))\n",
    "        pos += 1\n",
    "    return res\n",
    "\n",
    "s = 'I am an NLPer'\n",
    "print(to_word_ngram(s, 2))\n",
    "s = ['I', 'am', 'an', 'NLPer']\n",
    "print(to_word_ngram(s, 2))"
   ]
  },
  {
   "cell_type": "markdown",
   "metadata": {},
   "source": [
    "## 06. 集合\n",
    "\"paraparaparadise\"と\"paragraph\"に含まれる文字bi-gramの集合を，それぞれ, XとYとして求め，XとYの和集合，積集合，差集合を求めよ．さらに，'se'というbi-gramがXおよびYに含まれるかどうかを調べよ．"
   ]
  },
  {
   "cell_type": "code",
   "execution_count": 40,
   "metadata": {
    "collapsed": false
   },
   "outputs": [
    {
     "name": "stdout",
     "output_type": "stream",
     "text": [
      "{'ar', 'pa', 'ra', 'ag', 'se', 'gr', 'ph', 'ap', 'ad', 'di', 'is'}\n",
      "{'ar', 'pa', 'ra', 'ap'}\n",
      "{'is', 'ad', 'di', 'se'}\n",
      "True\n",
      "False\n"
     ]
    }
   ],
   "source": [
    "s1 = 'paraparaparadise'\n",
    "s2 = 'paragraph'\n",
    "\n",
    "bi_gram1_set = set(to_char_ngram(s1, 2))\n",
    "bi_gram2_set = set(to_char_ngram(s2, 2))\n",
    "print(bi_gram1_set | bi_gram2_set)\n",
    "print(bi_gram1_set & bi_gram2_set)\n",
    "print(bi_gram1_set - bi_gram2_set)\n",
    "\n",
    "print('se' in bi_gram1_set)\n",
    "print('se' in bi_gram2_set)"
   ]
  },
  {
   "cell_type": "markdown",
   "metadata": {},
   "source": [
    "## 07. テンプレートによる文生成\n",
    "引数x, y, zを受け取り「x時のyはz」という文字列を返す関数を実装せよ．さらに，x=12, y=\"気温\", z=22.4として，実行結果を確認せよ．"
   ]
  },
  {
   "cell_type": "code",
   "execution_count": 46,
   "metadata": {
    "collapsed": false
   },
   "outputs": [
    {
     "name": "stdout",
     "output_type": "stream",
     "text": [
      "12時の気温は22.4\n"
     ]
    }
   ],
   "source": [
    "def template(x, y, z):\n",
    "    return '{x}時の{y}は{z}'.format(x=x, y=y, z=z)\n",
    "\n",
    "print(template(12, '気温', 22.4))"
   ]
  },
  {
   "cell_type": "markdown",
   "metadata": {},
   "source": [
    "## 08. 暗号文\n",
    "与えられた文字列の各文字を，以下の仕様で変換する関数cipherを実装せよ．\n",
    "* 英小文字ならば(219 - 文字コード)の文字に置換\n",
    "* その他の文字はそのまま出力\n",
    "\n",
    "この関数を用い，英語のメッセージを暗号化・復号化せよ．"
   ]
  },
  {
   "cell_type": "code",
   "execution_count": 52,
   "metadata": {
    "collapsed": false
   },
   "outputs": [
    {
     "name": "stdout",
     "output_type": "stream",
     "text": [
      "I zn zm NLPvi\n",
      "I am an NLPer\n"
     ]
    }
   ],
   "source": [
    "def cipher(ss):\n",
    "    def _cipher(s):\n",
    "        code = ord(s)\n",
    "        if 97 <= code <= 122:\n",
    "            return chr(219 - code)\n",
    "        return s\n",
    "    \n",
    "    res = ''\n",
    "    for s in ss:\n",
    "        res += _cipher(s)\n",
    "        \n",
    "    return res\n",
    "\n",
    "s = 'I am an NLPer'\n",
    "print(cipher(s))\n",
    "print(cipher(cipher(s)))"
   ]
  },
  {
   "cell_type": "markdown",
   "metadata": {},
   "source": [
    "## 09. Typoglycemia\n",
    "スペースで区切られた単語列に対して，各単語の先頭と末尾の文字は残し，それ以外の文字の順序をランダムに並び替えるプログラムを作成せよ．ただし，長さが４以下の単語は並び替えないこととする．適当な英語の文（例えば\"I couldn't believe that I could actually understand what I was reading : the phenomenal power of the human mind .\"）を与え，その実行結果を確認せよ．"
   ]
  },
  {
   "cell_type": "code",
   "execution_count": 51,
   "metadata": {
    "collapsed": false
   },
   "outputs": [
    {
     "name": "stdout",
     "output_type": "stream",
     "text": [
      "I c'olnudt bvieele that I colud allctuay unransetdd what I was rineadg : the paehnomenl poewr of the human mind .\n"
     ]
    }
   ],
   "source": [
    "import random\n",
    "\n",
    "def typoglycemia(ss):\n",
    "    res = []\n",
    "    \n",
    "    for s in ss.split():\n",
    "        if len(s) > 4:\n",
    "            head, last = s[0], s[-1]\n",
    "            internal = list(s[1:-1])\n",
    "            random.shuffle(internal)\n",
    "            res.append(head + ''.join(internal) + last)\n",
    "        else:\n",
    "            res.append(s)\n",
    "    return ' '.join(res)\n",
    "\n",
    "ss = \"I couldn't believe that I could actually understand what I was reading : the phenomenal power of the human mind .\"\n",
    "print(typoglycemia(ss))"
   ]
  },
  {
   "cell_type": "code",
   "execution_count": null,
   "metadata": {
    "collapsed": true
   },
   "outputs": [],
   "source": []
  }
 ],
 "metadata": {
  "anaconda-cloud": {},
  "kernelspec": {
   "display_name": "Python [default]",
   "language": "python",
   "name": "python3"
  },
  "language_info": {
   "codemirror_mode": {
    "name": "ipython",
    "version": 3
   },
   "file_extension": ".py",
   "mimetype": "text/x-python",
   "name": "python",
   "nbconvert_exporter": "python",
   "pygments_lexer": "ipython3",
   "version": "3.5.2"
  }
 },
 "nbformat": 4,
 "nbformat_minor": 2
}
